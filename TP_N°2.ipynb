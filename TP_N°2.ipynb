{
 "cells": [
  {
   "cell_type": "code",
   "execution_count": null,
   "metadata": {},
   "outputs": [],
   "source": [
    "import math\n",
    "\n",
    "# valores\n",
    "D = 82  # Diámetro del cilindro\n",
    "L = 113  # Longitud del cilindro\n",
    "e = 0.0005\n",
    "v = 300000\n",
    "a=0\n",
    "b=54\n",
    "\n",
    "# Calculo de iteraciones necesarias para obtener un error menor a 0.0005\n",
    "N = math.ceil((math.log10(54) - math.log10(e))/ (math.log10(2)))\n",
    "\n",
    "# Calculo metodo de biseccion\n",
    "def biseccion(D, L, HL):\n",
    "    resultado = L * (((math.pi * D**2) / 4) - ((D**2 / 4) * math.acos((D - 2 * HL) / D)) + ((D / 2) - HL) * math.sqrt((D**2 / 4) - ((D / 2) - HL)**2)) - v\n",
    "    return resultado\n",
    "resultA = biseccion(D,L,a)\n",
    "resultB = biseccion(D,L,b)\n",
    "resultC = biseccion(D,L,((b-a)/2))\n",
    "\n",
    "#calculo del error\n",
    "error = []\n",
    "for i in range(N):\n",
    "  error.append((b-a)/(2**(i+1)))\n",
    "print(error)\n",
    "\n",
    "#Calculo de C\n",
    "C = []\n",
    "for i in range(N):\n",
    "  c = ((a+b)/2)\n",
    "  C.append(c)\n",
    "  resultC = biseccion(D,L,C[i])\n",
    "  print(resultC)\n",
    "  if resultC*resultA<0:\n",
    "      b=C[i]\n",
    "      resultB = resultC\n",
    "  else:\n",
    "      a=C[i]\n",
    "      resultA = resultC"
   ]
  }
 ],
 "metadata": {
  "colab": {
   "provenance": []
  },
  "kernelspec": {
   "display_name": "Python 3 (ipykernel)",
   "language": "python",
   "name": "python3"
  },
  "language_info": {
   "codemirror_mode": {
    "name": "ipython",
    "version": 3
   },
   "file_extension": ".py",
   "mimetype": "text/x-python",
   "name": "python",
   "nbconvert_exporter": "python",
   "pygments_lexer": "ipython3",
   "version": "3.11.7"
  }
 },
 "nbformat": 4,
 "nbformat_minor": 4
}
